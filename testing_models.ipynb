{
 "cells": [
  {
   "cell_type": "code",
   "execution_count": 1,
   "id": "e9476b19",
   "metadata": {},
   "outputs": [],
   "source": [
    "import pandas as pd\n",
    "import numpy as np\n",
    "import matplotlib.pyplot as py\n",
    "import seaborn as sns"
   ]
  },
  {
   "cell_type": "code",
   "execution_count": 8,
   "id": "4a2253b2",
   "metadata": {},
   "outputs": [
    {
     "name": "stdout",
     "output_type": "stream",
     "text": [
      "   Unnamed: 0  Word Count  Unique Words  Characters  Average Word Lengths  \\\n",
      "0           0         162            71         678              4.185185   \n",
      "1           1         576           179        2611              4.532986   \n",
      "2           2          93            56         448              4.817204   \n",
      "3           3         808           185        3292              4.074257   \n",
      "4           4          70            46         264              3.771429   \n",
      "\n",
      "   Hapax Legomenons  Sentence Count  Average Sentence Length  \\\n",
      "0          0.277778              17                 9.529412   \n",
      "1          0.159722              25                23.040000   \n",
      "2          0.462366               5                18.600000   \n",
      "3          0.090347              51                15.843137   \n",
      "4          0.528571              11                 6.363636   \n",
      "\n",
      "   Punctuation Marks  Stop Words  Questions  First Person Pronouns  \n",
      "0                 34          44          1                      0  \n",
      "1                132         155          0                      5  \n",
      "2                 17          33          0                      3  \n",
      "3                175         226          0                     15  \n",
      "4                 25           7          0                      1  \n"
     ]
    }
   ],
   "source": [
    "df = pd.read_csv('stylometric_features.csv')\n",
    "X = df.iloc[:, :-1]\n",
    "y = df.iloc[:, -1]\n",
    "\n",
    "print(X.head())"
   ]
  },
  {
   "cell_type": "code",
   "execution_count": null,
   "id": "4bccc332",
   "metadata": {},
   "outputs": [],
   "source": []
  }
 ],
 "metadata": {
  "kernelspec": {
   "display_name": "base",
   "language": "python",
   "name": "python3"
  },
  "language_info": {
   "codemirror_mode": {
    "name": "ipython",
    "version": 3
   },
   "file_extension": ".py",
   "mimetype": "text/x-python",
   "name": "python",
   "nbconvert_exporter": "python",
   "pygments_lexer": "ipython3",
   "version": "3.11.4"
  }
 },
 "nbformat": 4,
 "nbformat_minor": 5
}
